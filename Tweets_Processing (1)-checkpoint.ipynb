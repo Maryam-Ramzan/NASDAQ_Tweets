{
 "cells": [
  {
   "cell_type": "code",
   "execution_count": 47,
   "metadata": {
    "colab": {
     "base_uri": "https://localhost:8080/"
    },
    "id": "fPrGzmIDtCpi",
    "outputId": "ce82e5e4-0d1f-4325-a58a-ddef81aad923"
   },
   "outputs": [
    {
     "name": "stdout",
     "output_type": "stream",
     "text": [
      "Looking in indexes: https://pypi.org/simple, https://us-python.pkg.dev/colab-wheels/public/simple/\n",
      "Requirement already satisfied: nltk in /usr/local/lib/python3.10/dist-packages (3.8.1)\n",
      "Requirement already satisfied: click in /usr/local/lib/python3.10/dist-packages (from nltk) (8.1.3)\n",
      "Requirement already satisfied: joblib in /usr/local/lib/python3.10/dist-packages (from nltk) (1.2.0)\n",
      "Requirement already satisfied: regex>=2021.8.3 in /usr/local/lib/python3.10/dist-packages (from nltk) (2022.10.31)\n",
      "Requirement already satisfied: tqdm in /usr/local/lib/python3.10/dist-packages (from nltk) (4.65.0)\n"
     ]
    }
   ],
   "source": [
    "! pip install nltk"
   ]
  },
  {
   "cell_type": "code",
   "execution_count": 48,
   "metadata": {
    "colab": {
     "base_uri": "https://localhost:8080/"
    },
    "id": "UTZvTYhunnVQ",
    "outputId": "418bae18-1d3b-4211-caa5-40733e70c6d3"
   },
   "outputs": [
    {
     "name": "stdout",
     "output_type": "stream",
     "text": [
      "Looking in indexes: https://pypi.org/simple, https://us-python.pkg.dev/colab-wheels/public/simple/\n",
      "Requirement already satisfied: vaderSentiment in /usr/local/lib/python3.10/dist-packages (3.3.2)\n",
      "Requirement already satisfied: requests in /usr/local/lib/python3.10/dist-packages (from vaderSentiment) (2.27.1)\n",
      "Requirement already satisfied: urllib3<1.27,>=1.21.1 in /usr/local/lib/python3.10/dist-packages (from requests->vaderSentiment) (1.26.15)\n",
      "Requirement already satisfied: certifi>=2017.4.17 in /usr/local/lib/python3.10/dist-packages (from requests->vaderSentiment) (2022.12.7)\n",
      "Requirement already satisfied: charset-normalizer~=2.0.0 in /usr/local/lib/python3.10/dist-packages (from requests->vaderSentiment) (2.0.12)\n",
      "Requirement already satisfied: idna<4,>=2.5 in /usr/local/lib/python3.10/dist-packages (from requests->vaderSentiment) (3.4)\n"
     ]
    }
   ],
   "source": [
    "!pip install vaderSentiment"
   ]
  },
  {
   "cell_type": "code",
   "execution_count": 49,
   "metadata": {
    "id": "WVl-mYdGcN9L"
   },
   "outputs": [],
   "source": [
    "import pandas as pd\n",
    "import numpy as np\n",
    "from wordcloud import WordCloud\n",
    "import matplotlib.pyplot as plt\n",
    "import re, string, unicodedata\n",
    "import nltk\n",
    "from nltk import word_tokenize, sent_tokenize, FreqDist\n",
    "from nltk.corpus import stopwords\n",
    "from textblob import TextBlob\n",
    "from nltk.stem import PorterStemmer\n",
    "from nltk.tokenize import TweetTokenizer \n",
    "import vaderSentiment\n",
    "# calling SentimentIntensityAnalyzer object\n",
    "from vaderSentiment.vaderSentiment import SentimentIntensityAnalyzer\n",
    "analyser = SentimentIntensityAnalyzer()\n"
   ]
  },
  {
   "cell_type": "code",
   "execution_count": 50,
   "metadata": {
    "id": "KYJ1x3ZJdJfQ"
   },
   "outputs": [],
   "source": [
    "df = pd.read_excel('/Final_Tweets.xlsx')"
   ]
  },
  {
   "cell_type": "code",
   "execution_count": 51,
   "metadata": {
    "colab": {
     "base_uri": "https://localhost:8080/"
    },
    "id": "CUHrZlzeooT7",
    "outputId": "43f76b1c-cde3-40ce-cfa8-f470c068cb98"
   },
   "outputs": [
    {
     "data": {
      "text/plain": [
       "(77822, 4)"
      ]
     },
     "execution_count": 51,
     "metadata": {},
     "output_type": "execute_result"
    }
   ],
   "source": [
    "df.shape"
   ]
  },
  {
   "cell_type": "code",
   "execution_count": 52,
   "metadata": {
    "colab": {
     "base_uri": "https://localhost:8080/",
     "height": 206
    },
    "id": "nu3C1lTlKzI3",
    "outputId": "f537959b-65db-4cd8-f958-4aea9de299eb"
   },
   "outputs": [
    {
     "data": {
      "text/html": [
       "\n",
       "  <div id=\"df-9330bf01-e157-48bf-aaa7-592c758dd54f\">\n",
       "    <div class=\"colab-df-container\">\n",
       "      <div>\n",
       "<style scoped>\n",
       "    .dataframe tbody tr th:only-of-type {\n",
       "        vertical-align: middle;\n",
       "    }\n",
       "\n",
       "    .dataframe tbody tr th {\n",
       "        vertical-align: top;\n",
       "    }\n",
       "\n",
       "    .dataframe thead th {\n",
       "        text-align: right;\n",
       "    }\n",
       "</style>\n",
       "<table border=\"1\" class=\"dataframe\">\n",
       "  <thead>\n",
       "    <tr style=\"text-align: right;\">\n",
       "      <th></th>\n",
       "      <th>Tweet</th>\n",
       "      <th>Stock Name</th>\n",
       "      <th>Company Name</th>\n",
       "      <th>Date</th>\n",
       "    </tr>\n",
       "  </thead>\n",
       "  <tbody>\n",
       "    <tr>\n",
       "      <th>0</th>\n",
       "      <td>ðŸ³ news:\\n\\n- BoE buys bonds, saves pensions...</td>\n",
       "      <td>MSFT</td>\n",
       "      <td>Microsoft Corporation</td>\n",
       "      <td>2022-09-29</td>\n",
       "    </tr>\n",
       "    <tr>\n",
       "      <th>1</th>\n",
       "      <td>FREE #OPTIONS Ideas\\n\\nScale out when above 25...</td>\n",
       "      <td>MSFT</td>\n",
       "      <td>Microsoft Corporation</td>\n",
       "      <td>2022-09-28</td>\n",
       "    </tr>\n",
       "    <tr>\n",
       "      <th>2</th>\n",
       "      <td>9/26/22 Options Trading Watchlist ðŸ¤‘\\n\\n$AMZ...</td>\n",
       "      <td>MSFT</td>\n",
       "      <td>Microsoft Corporation</td>\n",
       "      <td>2022-09-26</td>\n",
       "    </tr>\n",
       "    <tr>\n",
       "      <th>3</th>\n",
       "      <td>9/26/22 Options Trading Watchlist ðŸ¤‘\\n\\n$AMZ...</td>\n",
       "      <td>MSFT</td>\n",
       "      <td>Microsoft Corporation</td>\n",
       "      <td>2022-09-26</td>\n",
       "    </tr>\n",
       "    <tr>\n",
       "      <th>4</th>\n",
       "      <td>ðŸ³ news:\\n\\n- Stablecoin legislation\\n- Twit...</td>\n",
       "      <td>MSFT</td>\n",
       "      <td>Microsoft Corporation</td>\n",
       "      <td>2022-09-21</td>\n",
       "    </tr>\n",
       "  </tbody>\n",
       "</table>\n",
       "</div>\n",
       "      <button class=\"colab-df-convert\" onclick=\"convertToInteractive('df-9330bf01-e157-48bf-aaa7-592c758dd54f')\"\n",
       "              title=\"Convert this dataframe to an interactive table.\"\n",
       "              style=\"display:none;\">\n",
       "        \n",
       "  <svg xmlns=\"http://www.w3.org/2000/svg\" height=\"24px\"viewBox=\"0 0 24 24\"\n",
       "       width=\"24px\">\n",
       "    <path d=\"M0 0h24v24H0V0z\" fill=\"none\"/>\n",
       "    <path d=\"M18.56 5.44l.94 2.06.94-2.06 2.06-.94-2.06-.94-.94-2.06-.94 2.06-2.06.94zm-11 1L8.5 8.5l.94-2.06 2.06-.94-2.06-.94L8.5 2.5l-.94 2.06-2.06.94zm10 10l.94 2.06.94-2.06 2.06-.94-2.06-.94-.94-2.06-.94 2.06-2.06.94z\"/><path d=\"M17.41 7.96l-1.37-1.37c-.4-.4-.92-.59-1.43-.59-.52 0-1.04.2-1.43.59L10.3 9.45l-7.72 7.72c-.78.78-.78 2.05 0 2.83L4 21.41c.39.39.9.59 1.41.59.51 0 1.02-.2 1.41-.59l7.78-7.78 2.81-2.81c.8-.78.8-2.07 0-2.86zM5.41 20L4 18.59l7.72-7.72 1.47 1.35L5.41 20z\"/>\n",
       "  </svg>\n",
       "      </button>\n",
       "      \n",
       "  <style>\n",
       "    .colab-df-container {\n",
       "      display:flex;\n",
       "      flex-wrap:wrap;\n",
       "      gap: 12px;\n",
       "    }\n",
       "\n",
       "    .colab-df-convert {\n",
       "      background-color: #E8F0FE;\n",
       "      border: none;\n",
       "      border-radius: 50%;\n",
       "      cursor: pointer;\n",
       "      display: none;\n",
       "      fill: #1967D2;\n",
       "      height: 32px;\n",
       "      padding: 0 0 0 0;\n",
       "      width: 32px;\n",
       "    }\n",
       "\n",
       "    .colab-df-convert:hover {\n",
       "      background-color: #E2EBFA;\n",
       "      box-shadow: 0px 1px 2px rgba(60, 64, 67, 0.3), 0px 1px 3px 1px rgba(60, 64, 67, 0.15);\n",
       "      fill: #174EA6;\n",
       "    }\n",
       "\n",
       "    [theme=dark] .colab-df-convert {\n",
       "      background-color: #3B4455;\n",
       "      fill: #D2E3FC;\n",
       "    }\n",
       "\n",
       "    [theme=dark] .colab-df-convert:hover {\n",
       "      background-color: #434B5C;\n",
       "      box-shadow: 0px 1px 3px 1px rgba(0, 0, 0, 0.15);\n",
       "      filter: drop-shadow(0px 1px 2px rgba(0, 0, 0, 0.3));\n",
       "      fill: #FFFFFF;\n",
       "    }\n",
       "  </style>\n",
       "\n",
       "      <script>\n",
       "        const buttonEl =\n",
       "          document.querySelector('#df-9330bf01-e157-48bf-aaa7-592c758dd54f button.colab-df-convert');\n",
       "        buttonEl.style.display =\n",
       "          google.colab.kernel.accessAllowed ? 'block' : 'none';\n",
       "\n",
       "        async function convertToInteractive(key) {\n",
       "          const element = document.querySelector('#df-9330bf01-e157-48bf-aaa7-592c758dd54f');\n",
       "          const dataTable =\n",
       "            await google.colab.kernel.invokeFunction('convertToInteractive',\n",
       "                                                     [key], {});\n",
       "          if (!dataTable) return;\n",
       "\n",
       "          const docLinkHtml = 'Like what you see? Visit the ' +\n",
       "            '<a target=\"_blank\" href=https://colab.research.google.com/notebooks/data_table.ipynb>data table notebook</a>'\n",
       "            + ' to learn more about interactive tables.';\n",
       "          element.innerHTML = '';\n",
       "          dataTable['output_type'] = 'display_data';\n",
       "          await google.colab.output.renderOutput(dataTable, element);\n",
       "          const docLink = document.createElement('div');\n",
       "          docLink.innerHTML = docLinkHtml;\n",
       "          element.appendChild(docLink);\n",
       "        }\n",
       "      </script>\n",
       "    </div>\n",
       "  </div>\n",
       "  "
      ],
      "text/plain": [
       "                                               Tweet Stock Name  \\\n",
       "0  ðŸ³ news:\\n\\n- BoE buys bonds, saves pensions...       MSFT   \n",
       "1  FREE #OPTIONS Ideas\\n\\nScale out when above 25...       MSFT   \n",
       "2  9/26/22 Options Trading Watchlist ðŸ¤‘\\n\\n$AMZ...       MSFT   \n",
       "3  9/26/22 Options Trading Watchlist ðŸ¤‘\\n\\n$AMZ...       MSFT   \n",
       "4  ðŸ³ news:\\n\\n- Stablecoin legislation\\n- Twit...       MSFT   \n",
       "\n",
       "            Company Name       Date  \n",
       "0  Microsoft Corporation 2022-09-29  \n",
       "1  Microsoft Corporation 2022-09-28  \n",
       "2  Microsoft Corporation 2022-09-26  \n",
       "3  Microsoft Corporation 2022-09-26  \n",
       "4  Microsoft Corporation 2022-09-21  "
      ]
     },
     "execution_count": 52,
     "metadata": {},
     "output_type": "execute_result"
    }
   ],
   "source": [
    "df.head()"
   ]
  },
  {
   "cell_type": "code",
   "execution_count": 53,
   "metadata": {
    "id": "yGnA7Q3oo2PP"
   },
   "outputs": [],
   "source": [
    "df['Tweet'] = df['Tweet'].str.lower()"
   ]
  },
  {
   "cell_type": "code",
   "execution_count": 54,
   "metadata": {
    "colab": {
     "base_uri": "https://localhost:8080/"
    },
    "id": "F5hg33uJq5Td",
    "outputId": "145d9ad3-ddec-48ec-dde5-ac189ba1abdb"
   },
   "outputs": [
    {
     "data": {
      "text/plain": [
       "Tweet           1\n",
       "Stock Name      0\n",
       "Company Name    0\n",
       "Date            0\n",
       "dtype: int64"
      ]
     },
     "execution_count": 54,
     "metadata": {},
     "output_type": "execute_result"
    }
   ],
   "source": [
    "df.isnull().sum()"
   ]
  },
  {
   "cell_type": "code",
   "execution_count": 55,
   "metadata": {
    "colab": {
     "base_uri": "https://localhost:8080/",
     "height": 81
    },
    "id": "CD7sJnUxsAD3",
    "outputId": "07089fce-4588-422a-9e62-595300038f61"
   },
   "outputs": [
    {
     "data": {
      "text/html": [
       "\n",
       "  <div id=\"df-bc0b5312-fa83-4c17-8f76-1c60778466e0\">\n",
       "    <div class=\"colab-df-container\">\n",
       "      <div>\n",
       "<style scoped>\n",
       "    .dataframe tbody tr th:only-of-type {\n",
       "        vertical-align: middle;\n",
       "    }\n",
       "\n",
       "    .dataframe tbody tr th {\n",
       "        vertical-align: top;\n",
       "    }\n",
       "\n",
       "    .dataframe thead th {\n",
       "        text-align: right;\n",
       "    }\n",
       "</style>\n",
       "<table border=\"1\" class=\"dataframe\">\n",
       "  <thead>\n",
       "    <tr style=\"text-align: right;\">\n",
       "      <th></th>\n",
       "      <th>Tweet</th>\n",
       "      <th>Stock Name</th>\n",
       "      <th>Company Name</th>\n",
       "      <th>Date</th>\n",
       "    </tr>\n",
       "  </thead>\n",
       "  <tbody>\n",
       "    <tr>\n",
       "      <th>47755</th>\n",
       "      <td>NaN</td>\n",
       "      <td>NOC</td>\n",
       "      <td>Northrop Grumman Corporation</td>\n",
       "      <td>2022-11-02</td>\n",
       "    </tr>\n",
       "  </tbody>\n",
       "</table>\n",
       "</div>\n",
       "      <button class=\"colab-df-convert\" onclick=\"convertToInteractive('df-bc0b5312-fa83-4c17-8f76-1c60778466e0')\"\n",
       "              title=\"Convert this dataframe to an interactive table.\"\n",
       "              style=\"display:none;\">\n",
       "        \n",
       "  <svg xmlns=\"http://www.w3.org/2000/svg\" height=\"24px\"viewBox=\"0 0 24 24\"\n",
       "       width=\"24px\">\n",
       "    <path d=\"M0 0h24v24H0V0z\" fill=\"none\"/>\n",
       "    <path d=\"M18.56 5.44l.94 2.06.94-2.06 2.06-.94-2.06-.94-.94-2.06-.94 2.06-2.06.94zm-11 1L8.5 8.5l.94-2.06 2.06-.94-2.06-.94L8.5 2.5l-.94 2.06-2.06.94zm10 10l.94 2.06.94-2.06 2.06-.94-2.06-.94-.94-2.06-.94 2.06-2.06.94z\"/><path d=\"M17.41 7.96l-1.37-1.37c-.4-.4-.92-.59-1.43-.59-.52 0-1.04.2-1.43.59L10.3 9.45l-7.72 7.72c-.78.78-.78 2.05 0 2.83L4 21.41c.39.39.9.59 1.41.59.51 0 1.02-.2 1.41-.59l7.78-7.78 2.81-2.81c.8-.78.8-2.07 0-2.86zM5.41 20L4 18.59l7.72-7.72 1.47 1.35L5.41 20z\"/>\n",
       "  </svg>\n",
       "      </button>\n",
       "      \n",
       "  <style>\n",
       "    .colab-df-container {\n",
       "      display:flex;\n",
       "      flex-wrap:wrap;\n",
       "      gap: 12px;\n",
       "    }\n",
       "\n",
       "    .colab-df-convert {\n",
       "      background-color: #E8F0FE;\n",
       "      border: none;\n",
       "      border-radius: 50%;\n",
       "      cursor: pointer;\n",
       "      display: none;\n",
       "      fill: #1967D2;\n",
       "      height: 32px;\n",
       "      padding: 0 0 0 0;\n",
       "      width: 32px;\n",
       "    }\n",
       "\n",
       "    .colab-df-convert:hover {\n",
       "      background-color: #E2EBFA;\n",
       "      box-shadow: 0px 1px 2px rgba(60, 64, 67, 0.3), 0px 1px 3px 1px rgba(60, 64, 67, 0.15);\n",
       "      fill: #174EA6;\n",
       "    }\n",
       "\n",
       "    [theme=dark] .colab-df-convert {\n",
       "      background-color: #3B4455;\n",
       "      fill: #D2E3FC;\n",
       "    }\n",
       "\n",
       "    [theme=dark] .colab-df-convert:hover {\n",
       "      background-color: #434B5C;\n",
       "      box-shadow: 0px 1px 3px 1px rgba(0, 0, 0, 0.15);\n",
       "      filter: drop-shadow(0px 1px 2px rgba(0, 0, 0, 0.3));\n",
       "      fill: #FFFFFF;\n",
       "    }\n",
       "  </style>\n",
       "\n",
       "      <script>\n",
       "        const buttonEl =\n",
       "          document.querySelector('#df-bc0b5312-fa83-4c17-8f76-1c60778466e0 button.colab-df-convert');\n",
       "        buttonEl.style.display =\n",
       "          google.colab.kernel.accessAllowed ? 'block' : 'none';\n",
       "\n",
       "        async function convertToInteractive(key) {\n",
       "          const element = document.querySelector('#df-bc0b5312-fa83-4c17-8f76-1c60778466e0');\n",
       "          const dataTable =\n",
       "            await google.colab.kernel.invokeFunction('convertToInteractive',\n",
       "                                                     [key], {});\n",
       "          if (!dataTable) return;\n",
       "\n",
       "          const docLinkHtml = 'Like what you see? Visit the ' +\n",
       "            '<a target=\"_blank\" href=https://colab.research.google.com/notebooks/data_table.ipynb>data table notebook</a>'\n",
       "            + ' to learn more about interactive tables.';\n",
       "          element.innerHTML = '';\n",
       "          dataTable['output_type'] = 'display_data';\n",
       "          await google.colab.output.renderOutput(dataTable, element);\n",
       "          const docLink = document.createElement('div');\n",
       "          docLink.innerHTML = docLinkHtml;\n",
       "          element.appendChild(docLink);\n",
       "        }\n",
       "      </script>\n",
       "    </div>\n",
       "  </div>\n",
       "  "
      ],
      "text/plain": [
       "      Tweet Stock Name                  Company Name       Date\n",
       "47755   NaN        NOC  Northrop Grumman Corporation 2022-11-02"
      ]
     },
     "execution_count": 55,
     "metadata": {},
     "output_type": "execute_result"
    }
   ],
   "source": [
    "df[df.Tweet.isnull()]"
   ]
  },
  {
   "cell_type": "code",
   "execution_count": 56,
   "metadata": {
    "id": "1n4Lk8UJsWOy"
   },
   "outputs": [],
   "source": [
    "df = df.dropna()"
   ]
  },
  {
   "cell_type": "code",
   "execution_count": 57,
   "metadata": {
    "colab": {
     "base_uri": "https://localhost:8080/"
    },
    "id": "0ASy_l41sX9V",
    "outputId": "5e0b9830-feb2-4d86-cc05-a4910f3258b1"
   },
   "outputs": [
    {
     "data": {
      "text/plain": [
       "Tweet           0\n",
       "Stock Name      0\n",
       "Company Name    0\n",
       "Date            0\n",
       "dtype: int64"
      ]
     },
     "execution_count": 57,
     "metadata": {},
     "output_type": "execute_result"
    }
   ],
   "source": [
    "df.isnull().sum()"
   ]
  },
  {
   "cell_type": "code",
   "execution_count": 58,
   "metadata": {
    "colab": {
     "base_uri": "https://localhost:8080/"
    },
    "id": "PGrqA_tstc5q",
    "outputId": "3eb9f88f-be23-432f-a828-44450a674779"
   },
   "outputs": [
    {
     "name": "stderr",
     "output_type": "stream",
     "text": [
      "[nltk_data] Downloading package punkt to /root/nltk_data...\n",
      "[nltk_data]   Package punkt is already up-to-date!\n",
      "[nltk_data] Downloading package stopwords to /root/nltk_data...\n",
      "[nltk_data]   Package stopwords is already up-to-date!\n"
     ]
    },
    {
     "data": {
      "text/plain": [
       "True"
      ]
     },
     "execution_count": 58,
     "metadata": {},
     "output_type": "execute_result"
    }
   ],
   "source": [
    "nltk.download('punkt')\n",
    "nltk.download('stopwords')"
   ]
  },
  {
   "cell_type": "code",
   "execution_count": 59,
   "metadata": {
    "colab": {
     "base_uri": "https://localhost:8080/"
    },
    "id": "RL4MnKAtamg_",
    "outputId": "ef2f58b1-7510-4bfc-e3ca-67b0b243928d"
   },
   "outputs": [
    {
     "name": "stdout",
     "output_type": "stream",
     "text": [
      "Looking in indexes: https://pypi.org/simple, https://us-python.pkg.dev/colab-wheels/public/simple/\n",
      "Requirement already satisfied: Unidecode in /usr/local/lib/python3.10/dist-packages (1.3.6)\n"
     ]
    }
   ],
   "source": [
    "!pip install Unidecode"
   ]
  },
  {
   "cell_type": "code",
   "execution_count": 60,
   "metadata": {
    "id": "pdp3RDuQaain"
   },
   "outputs": [],
   "source": [
    "emoji_pattern = re.compile(\"[\"\n",
    "        u\"\\U0001F600-\\U0001F64F\"  # emoticons\n",
    "        u\"\\U0001F300-\\U0001F5FF\"  # symbols & pictographs\n",
    "        u\"\\U0001F680-\\U0001F6FF\"  # transport & map symbols\n",
    "        u\"\\U0001F1E0-\\U0001F1FF\"  # flags (iOS)\n",
    "                           \"]+\", flags=re.UNICODE)\n",
    "import unidecode\n",
    "\n"
   ]
  },
  {
   "cell_type": "code",
   "execution_count": 61,
   "metadata": {
    "id": "j8-A2yyescNN"
   },
   "outputs": [],
   "source": [
    "def clean_tweet(tweet):\n",
    "    tweet = tweet.lower() # convert to lowercase\n",
    "    tweet = re.sub(r'[^\\w\\s]', '', tweet) # remove punctuation and special characters\n",
    "    tweet = re.sub(r'\\b\\d+\\b', '', tweet) # remove numbers\n",
    "    tweet = re.sub(r'\\s+', ' ', tweet) # remove extra whitespace\n",
    "    tweet = re.sub(r'[@|#]\\S+', '', tweet) # remove hashtags and mentions\n",
    "    tweet = re.sub(r'[@|#]\\w+', '', tweet)  # remove hashtags and mentions\n",
    "    tweet = re.sub(r'\\b\\d+\\b', '', tweet) # remove numbers\n",
    "    tweet = re.sub(r'\\s+', ' ', tweet) # remove extra whitespace\n",
    "    tweet = re.sub(r'[/]', '', tweet) # remove forward slashes\n",
    "    tweet = re.sub(r'[\\n]', '', tweet) # remove forward slashes\n",
    "    tweet = re.sub(r'\\d+', '', tweet)\n",
    "    tweet = re.sub(r'\\d\\w+', '', tweet)\n",
    "    # tweet = re.sub(r'[^\\d\\w+]', '', tweet)\n",
    "    tweet = unidecode.unidecode(tweet) # Transliterate the tweet\n",
    "    tweet = emoji_pattern.sub(r'', tweet)  # Remove emojis\n",
    "   \n",
    "    return tweet\n"
   ]
  },
  {
   "cell_type": "code",
   "execution_count": 62,
   "metadata": {
    "colab": {
     "base_uri": "https://localhost:8080/"
    },
    "id": "Oyw_4spMlZRW",
    "outputId": "733d326d-43cc-4b87-af1f-4ee16302db02"
   },
   "outputs": [
    {
     "name": "stdout",
     "output_type": "stream",
     "text": [
      "0        dy3 news boe buys bonds saves pensions mortgag...\n",
      "1        free options ideas scale out when above profit...\n",
      "2         options trading watchlist dy amzn scratch amd...\n",
      "3         options trading watchlist dy amzn c gt amd c ...\n",
      "4        dy3 news stablecoin legislation twitch amzn ba...\n",
      "                               ...                        \n",
      "77817    elonmusk tesla has had the ev market to itself...\n",
      "77818    dy^ todays trending stocks dy nio nio inc coin...\n",
      "77819            sorcery_inc start being a diamond hand dy\n",
      "77820    nio i was early to investing in eventuality sa...\n",
      "77821                       nio inc nio price at close is \n",
      "Name: clean_tweet, Length: 77821, dtype: object\n"
     ]
    }
   ],
   "source": [
    "df['clean_tweet'] = df['Tweet'].apply(clean_tweet)\n",
    "\n",
    "# View the resulting dataframe\n",
    "print(df['clean_tweet'])"
   ]
  },
  {
   "cell_type": "code",
   "execution_count": 63,
   "metadata": {
    "colab": {
     "base_uri": "https://localhost:8080/"
    },
    "id": "4UMpU_E_lT26",
    "outputId": "c975c273-8a41-4cc6-a9e6-0890f4e3f92f"
   },
   "outputs": [
    {
     "data": {
      "text/plain": [
       "(77821, 5)"
      ]
     },
     "execution_count": 63,
     "metadata": {},
     "output_type": "execute_result"
    }
   ],
   "source": [
    "df.drop_duplicates()\n",
    "df.shape"
   ]
  },
  {
   "cell_type": "code",
   "execution_count": 64,
   "metadata": {
    "id": "RhzwRZ5znKS2"
   },
   "outputs": [],
   "source": [
    "tokens_ = df['clean_tweet'].apply(lambda x: nltk.word_tokenize(x))"
   ]
  },
  {
   "cell_type": "code",
   "execution_count": 65,
   "metadata": {
    "colab": {
     "base_uri": "https://localhost:8080/"
    },
    "id": "zYRFdZzdmXKj",
    "outputId": "05a29ac0-df75-4d2e-cda1-275cd518e834"
   },
   "outputs": [
    {
     "name": "stdout",
     "output_type": "stream",
     "text": [
      "2319520 words total, with a vocabulary size of 170649\n"
     ]
    }
   ],
   "source": [
    "all_words = [word for tokens in tokens_ for word in tokens]\n",
    "df['description_lengths']= [len(tokens) for tokens in tokens_]\n",
    "VOCAB = sorted(list(set(all_words)))\n",
    "print(\"%s words total, with a vocabulary size of %s\" % (len(all_words), len(VOCAB)))"
   ]
  },
  {
   "cell_type": "code",
   "execution_count": 66,
   "metadata": {
    "colab": {
     "base_uri": "https://localhost:8080/"
    },
    "id": "wsRtmZ17mzGy",
    "outputId": "f2705d90-50df-42e5-eefc-7a30df73db58"
   },
   "outputs": [
    {
     "data": {
      "text/plain": [
       "[('the', 59149),\n",
       " ('to', 37977),\n",
       " ('a', 32338),\n",
       " ('and', 27200),\n",
       " ('of', 25505),\n",
       " ('in', 23349),\n",
       " ('for', 19872),\n",
       " ('is', 19410),\n",
       " ('tsla', 15469),\n",
       " ('on', 14936)]"
      ]
     },
     "execution_count": 66,
     "metadata": {},
     "output_type": "execute_result"
    }
   ],
   "source": [
    "from collections import Counter\n",
    "count_all_words = Counter(all_words)\n",
    "count_all_words.most_common(10)"
   ]
  },
  {
   "cell_type": "code",
   "execution_count": 67,
   "metadata": {
    "colab": {
     "base_uri": "https://localhost:8080/"
    },
    "id": "rPsPDUFFxyui",
    "outputId": "389de12f-b1c4-4fe1-e7f1-e1a9cd8e7a1c"
   },
   "outputs": [
    {
     "name": "stderr",
     "output_type": "stream",
     "text": [
      "[nltk_data] Downloading package vader_lexicon to /root/nltk_data...\n",
      "[nltk_data]   Package vader_lexicon is already up-to-date!\n"
     ]
    },
    {
     "data": {
      "text/plain": [
       "True"
      ]
     },
     "execution_count": 67,
     "metadata": {},
     "output_type": "execute_result"
    }
   ],
   "source": [
    "import nltk\n",
    "nltk.download('vader_lexicon')"
   ]
  },
  {
   "cell_type": "code",
   "execution_count": 68,
   "metadata": {
    "id": "oLIK9dU9xjp6"
   },
   "outputs": [],
   "source": [
    "# sia = SentimentIntensityAnalyzer()\n",
    "# # NLTK VADER for sentiment analysis\n",
    "from nltk.sentiment.vader import SentimentIntensityAnalyzer\n",
    "\n",
    "#  New words and values\n",
    "new_words = {\n",
    "    'crushes': -10,\n",
    "    'beats': -5,\n",
    "    'misses': -5,\n",
    "    'trouble': -10,\n",
    "    'falls': -100,\n",
    "    'sell': -1 , 'bear': -1 ,'bubble':-1, 'bearish':-1, 'short':-1, \n",
    "    'overvalued':-1, 'overbought':-1, 'overpriced':-1, 'expensive':-1, 'downward':-1, \n",
    "    'falling': -1, 'sold':-1, 'sell':-1, 'low':-1, 'put':-1, 'miss':-1,\n",
    "     'resistance': -1, 'squeeze':-1, 'cover':-1, 'seller':-1\n",
    "}\n",
    "# Instantiate the sentiment intensity analyzer with the existing lexicon\n",
    "vader = SentimentIntensityAnalyzer()\n",
    "# Update the lexicon\n",
    "vader.lexicon.update (new_words)\n",
    "\n",
    "# Creating a fubction to get subjectivity\n",
    "def getSubjectivity(text):\n",
    " return TextBlob(text).sentiment.subjectivity\n",
    "# positive_words='buy bull long support undervalued underpriced cheap upward rising trend moon rocket hold breakout call beat support buying holding high profit'\n",
    "# negative_words='sell bear bubble bearish short overvalued overbought overpriced expensive downward falling sold sell low put miss resistance squeeze cover seller '"
   ]
  },
  {
   "cell_type": "code",
   "execution_count": 69,
   "metadata": {
    "colab": {
     "base_uri": "https://localhost:8080/",
     "height": 423
    },
    "id": "DuN1T62-oEab",
    "outputId": "9407533a-a446-4d6c-a497-027f39b5d0ab"
   },
   "outputs": [
    {
     "data": {
      "text/html": [
       "\n",
       "  <div id=\"df-fb63cc08-5b19-447e-a4c1-966b4b330360\">\n",
       "    <div class=\"colab-df-container\">\n",
       "      <div>\n",
       "<style scoped>\n",
       "    .dataframe tbody tr th:only-of-type {\n",
       "        vertical-align: middle;\n",
       "    }\n",
       "\n",
       "    .dataframe tbody tr th {\n",
       "        vertical-align: top;\n",
       "    }\n",
       "\n",
       "    .dataframe thead th {\n",
       "        text-align: right;\n",
       "    }\n",
       "</style>\n",
       "<table border=\"1\" class=\"dataframe\">\n",
       "  <thead>\n",
       "    <tr style=\"text-align: right;\">\n",
       "      <th></th>\n",
       "      <th>Tweet</th>\n",
       "      <th>Stock Name</th>\n",
       "      <th>Company Name</th>\n",
       "      <th>Date</th>\n",
       "      <th>clean_tweet</th>\n",
       "      <th>description_lengths</th>\n",
       "      <th>Subjectivity</th>\n",
       "      <th>scores</th>\n",
       "    </tr>\n",
       "  </thead>\n",
       "  <tbody>\n",
       "    <tr>\n",
       "      <th>0</th>\n",
       "      <td>ðÿ³ news:\\n\\n- boe buys bonds, saves pensions...</td>\n",
       "      <td>MSFT</td>\n",
       "      <td>Microsoft Corporation</td>\n",
       "      <td>2022-09-29</td>\n",
       "      <td>dy3 news boe buys bonds saves pensions mortgag...</td>\n",
       "      <td>40</td>\n",
       "      <td>0.454545</td>\n",
       "      <td>{'neg': 0.244, 'neu': 0.756, 'pos': 0.0, 'comp...</td>\n",
       "    </tr>\n",
       "    <tr>\n",
       "      <th>1</th>\n",
       "      <td>free #options ideas\\n\\nscale out when above 25...</td>\n",
       "      <td>MSFT</td>\n",
       "      <td>Microsoft Corporation</td>\n",
       "      <td>2022-09-28</td>\n",
       "      <td>free options ideas scale out when above profit...</td>\n",
       "      <td>33</td>\n",
       "      <td>0.450000</td>\n",
       "      <td>{'neg': 0.0, 'neu': 0.749, 'pos': 0.251, 'comp...</td>\n",
       "    </tr>\n",
       "    <tr>\n",
       "      <th>2</th>\n",
       "      <td>9/26/22 options trading watchlist ðÿ¤‘\\n\\n$amz...</td>\n",
       "      <td>MSFT</td>\n",
       "      <td>Microsoft Corporation</td>\n",
       "      <td>2022-09-26</td>\n",
       "      <td>options trading watchlist dy amzn scratch amd...</td>\n",
       "      <td>40</td>\n",
       "      <td>1.000000</td>\n",
       "      <td>{'neg': 0.106, 'neu': 0.795, 'pos': 0.098, 'co...</td>\n",
       "    </tr>\n",
       "    <tr>\n",
       "      <th>3</th>\n",
       "      <td>9/26/22 options trading watchlist ðÿ¤‘\\n\\n$amz...</td>\n",
       "      <td>MSFT</td>\n",
       "      <td>Microsoft Corporation</td>\n",
       "      <td>2022-09-26</td>\n",
       "      <td>options trading watchlist dy amzn c gt amd c ...</td>\n",
       "      <td>40</td>\n",
       "      <td>0.605000</td>\n",
       "      <td>{'neg': 0.175, 'neu': 0.674, 'pos': 0.151, 'co...</td>\n",
       "    </tr>\n",
       "    <tr>\n",
       "      <th>4</th>\n",
       "      <td>ðÿ³ news:\\n\\n- stablecoin legislation\\n- twit...</td>\n",
       "      <td>MSFT</td>\n",
       "      <td>Microsoft Corporation</td>\n",
       "      <td>2022-09-21</td>\n",
       "      <td>dy3 news stablecoin legislation twitch amzn ba...</td>\n",
       "      <td>35</td>\n",
       "      <td>0.166667</td>\n",
       "      <td>{'neg': 0.143, 'neu': 0.809, 'pos': 0.049, 'co...</td>\n",
       "    </tr>\n",
       "  </tbody>\n",
       "</table>\n",
       "</div>\n",
       "      <button class=\"colab-df-convert\" onclick=\"convertToInteractive('df-fb63cc08-5b19-447e-a4c1-966b4b330360')\"\n",
       "              title=\"Convert this dataframe to an interactive table.\"\n",
       "              style=\"display:none;\">\n",
       "        \n",
       "  <svg xmlns=\"http://www.w3.org/2000/svg\" height=\"24px\"viewBox=\"0 0 24 24\"\n",
       "       width=\"24px\">\n",
       "    <path d=\"M0 0h24v24H0V0z\" fill=\"none\"/>\n",
       "    <path d=\"M18.56 5.44l.94 2.06.94-2.06 2.06-.94-2.06-.94-.94-2.06-.94 2.06-2.06.94zm-11 1L8.5 8.5l.94-2.06 2.06-.94-2.06-.94L8.5 2.5l-.94 2.06-2.06.94zm10 10l.94 2.06.94-2.06 2.06-.94-2.06-.94-.94-2.06-.94 2.06-2.06.94z\"/><path d=\"M17.41 7.96l-1.37-1.37c-.4-.4-.92-.59-1.43-.59-.52 0-1.04.2-1.43.59L10.3 9.45l-7.72 7.72c-.78.78-.78 2.05 0 2.83L4 21.41c.39.39.9.59 1.41.59.51 0 1.02-.2 1.41-.59l7.78-7.78 2.81-2.81c.8-.78.8-2.07 0-2.86zM5.41 20L4 18.59l7.72-7.72 1.47 1.35L5.41 20z\"/>\n",
       "  </svg>\n",
       "      </button>\n",
       "      \n",
       "  <style>\n",
       "    .colab-df-container {\n",
       "      display:flex;\n",
       "      flex-wrap:wrap;\n",
       "      gap: 12px;\n",
       "    }\n",
       "\n",
       "    .colab-df-convert {\n",
       "      background-color: #E8F0FE;\n",
       "      border: none;\n",
       "      border-radius: 50%;\n",
       "      cursor: pointer;\n",
       "      display: none;\n",
       "      fill: #1967D2;\n",
       "      height: 32px;\n",
       "      padding: 0 0 0 0;\n",
       "      width: 32px;\n",
       "    }\n",
       "\n",
       "    .colab-df-convert:hover {\n",
       "      background-color: #E2EBFA;\n",
       "      box-shadow: 0px 1px 2px rgba(60, 64, 67, 0.3), 0px 1px 3px 1px rgba(60, 64, 67, 0.15);\n",
       "      fill: #174EA6;\n",
       "    }\n",
       "\n",
       "    [theme=dark] .colab-df-convert {\n",
       "      background-color: #3B4455;\n",
       "      fill: #D2E3FC;\n",
       "    }\n",
       "\n",
       "    [theme=dark] .colab-df-convert:hover {\n",
       "      background-color: #434B5C;\n",
       "      box-shadow: 0px 1px 3px 1px rgba(0, 0, 0, 0.15);\n",
       "      filter: drop-shadow(0px 1px 2px rgba(0, 0, 0, 0.3));\n",
       "      fill: #FFFFFF;\n",
       "    }\n",
       "  </style>\n",
       "\n",
       "      <script>\n",
       "        const buttonEl =\n",
       "          document.querySelector('#df-fb63cc08-5b19-447e-a4c1-966b4b330360 button.colab-df-convert');\n",
       "        buttonEl.style.display =\n",
       "          google.colab.kernel.accessAllowed ? 'block' : 'none';\n",
       "\n",
       "        async function convertToInteractive(key) {\n",
       "          const element = document.querySelector('#df-fb63cc08-5b19-447e-a4c1-966b4b330360');\n",
       "          const dataTable =\n",
       "            await google.colab.kernel.invokeFunction('convertToInteractive',\n",
       "                                                     [key], {});\n",
       "          if (!dataTable) return;\n",
       "\n",
       "          const docLinkHtml = 'Like what you see? Visit the ' +\n",
       "            '<a target=\"_blank\" href=https://colab.research.google.com/notebooks/data_table.ipynb>data table notebook</a>'\n",
       "            + ' to learn more about interactive tables.';\n",
       "          element.innerHTML = '';\n",
       "          dataTable['output_type'] = 'display_data';\n",
       "          await google.colab.output.renderOutput(dataTable, element);\n",
       "          const docLink = document.createElement('div');\n",
       "          docLink.innerHTML = docLinkHtml;\n",
       "          element.appendChild(docLink);\n",
       "        }\n",
       "      </script>\n",
       "    </div>\n",
       "  </div>\n",
       "  "
      ],
      "text/plain": [
       "                                               Tweet Stock Name  \\\n",
       "0  ðÿ³ news:\\n\\n- boe buys bonds, saves pensions...       MSFT   \n",
       "1  free #options ideas\\n\\nscale out when above 25...       MSFT   \n",
       "2  9/26/22 options trading watchlist ðÿ¤‘\\n\\n$amz...       MSFT   \n",
       "3  9/26/22 options trading watchlist ðÿ¤‘\\n\\n$amz...       MSFT   \n",
       "4  ðÿ³ news:\\n\\n- stablecoin legislation\\n- twit...       MSFT   \n",
       "\n",
       "            Company Name       Date  \\\n",
       "0  Microsoft Corporation 2022-09-29   \n",
       "1  Microsoft Corporation 2022-09-28   \n",
       "2  Microsoft Corporation 2022-09-26   \n",
       "3  Microsoft Corporation 2022-09-26   \n",
       "4  Microsoft Corporation 2022-09-21   \n",
       "\n",
       "                                         clean_tweet  description_lengths  \\\n",
       "0  dy3 news boe buys bonds saves pensions mortgag...                   40   \n",
       "1  free options ideas scale out when above profit...                   33   \n",
       "2   options trading watchlist dy amzn scratch amd...                   40   \n",
       "3   options trading watchlist dy amzn c gt amd c ...                   40   \n",
       "4  dy3 news stablecoin legislation twitch amzn ba...                   35   \n",
       "\n",
       "   Subjectivity                                             scores  \n",
       "0      0.454545  {'neg': 0.244, 'neu': 0.756, 'pos': 0.0, 'comp...  \n",
       "1      0.450000  {'neg': 0.0, 'neu': 0.749, 'pos': 0.251, 'comp...  \n",
       "2      1.000000  {'neg': 0.106, 'neu': 0.795, 'pos': 0.098, 'co...  \n",
       "3      0.605000  {'neg': 0.175, 'neu': 0.674, 'pos': 0.151, 'co...  \n",
       "4      0.166667  {'neg': 0.143, 'neu': 0.809, 'pos': 0.049, 'co...  "
      ]
     },
     "execution_count": 69,
     "metadata": {},
     "output_type": "execute_result"
    }
   ],
   "source": [
    "df['Subjectivity'] = df['clean_tweet'].apply(getSubjectivity)\n",
    "df['scores'] = df['clean_tweet'].apply(lambda review: vader.polarity_scores(review))\n",
    "\n",
    "df.head()"
   ]
  },
  {
   "cell_type": "code",
   "execution_count": 70,
   "metadata": {
    "colab": {
     "base_uri": "https://localhost:8080/",
     "height": 753
    },
    "id": "S-lDenwFobxq",
    "outputId": "99dcbe73-d1bb-4d6e-f654-28bfb3169e93"
   },
   "outputs": [
    {
     "data": {
      "text/html": [
       "\n",
       "  <div id=\"df-d5a6438f-a7b1-48b2-bfaa-faa51432d98c\">\n",
       "    <div class=\"colab-df-container\">\n",
       "      <div>\n",
       "<style scoped>\n",
       "    .dataframe tbody tr th:only-of-type {\n",
       "        vertical-align: middle;\n",
       "    }\n",
       "\n",
       "    .dataframe tbody tr th {\n",
       "        vertical-align: top;\n",
       "    }\n",
       "\n",
       "    .dataframe thead th {\n",
       "        text-align: right;\n",
       "    }\n",
       "</style>\n",
       "<table border=\"1\" class=\"dataframe\">\n",
       "  <thead>\n",
       "    <tr style=\"text-align: right;\">\n",
       "      <th></th>\n",
       "      <th>Tweet</th>\n",
       "      <th>Stock Name</th>\n",
       "      <th>Company Name</th>\n",
       "      <th>Date</th>\n",
       "      <th>clean_tweet</th>\n",
       "      <th>description_lengths</th>\n",
       "      <th>Subjectivity</th>\n",
       "      <th>scores</th>\n",
       "      <th>Compound</th>\n",
       "      <th>Negative</th>\n",
       "      <th>Positive</th>\n",
       "      <th>Neutral</th>\n",
       "    </tr>\n",
       "  </thead>\n",
       "  <tbody>\n",
       "    <tr>\n",
       "      <th>0</th>\n",
       "      <td>ðÿ³ news:\\n\\n- boe buys bonds, saves pensions...</td>\n",
       "      <td>MSFT</td>\n",
       "      <td>Microsoft Corporation</td>\n",
       "      <td>2022-09-29</td>\n",
       "      <td>dy3 news boe buys bonds saves pensions mortgag...</td>\n",
       "      <td>40</td>\n",
       "      <td>0.454545</td>\n",
       "      <td>{'neg': 0.244, 'neu': 0.756, 'pos': 0.0, 'comp...</td>\n",
       "      <td>-0.8750</td>\n",
       "      <td>0.244</td>\n",
       "      <td>0.000</td>\n",
       "      <td>0.756</td>\n",
       "    </tr>\n",
       "    <tr>\n",
       "      <th>1</th>\n",
       "      <td>free #options ideas\\n\\nscale out when above 25...</td>\n",
       "      <td>MSFT</td>\n",
       "      <td>Microsoft Corporation</td>\n",
       "      <td>2022-09-28</td>\n",
       "      <td>free options ideas scale out when above profit...</td>\n",
       "      <td>33</td>\n",
       "      <td>0.450000</td>\n",
       "      <td>{'neg': 0.0, 'neu': 0.749, 'pos': 0.251, 'comp...</td>\n",
       "      <td>0.8658</td>\n",
       "      <td>0.000</td>\n",
       "      <td>0.251</td>\n",
       "      <td>0.749</td>\n",
       "    </tr>\n",
       "    <tr>\n",
       "      <th>2</th>\n",
       "      <td>9/26/22 options trading watchlist ðÿ¤‘\\n\\n$amz...</td>\n",
       "      <td>MSFT</td>\n",
       "      <td>Microsoft Corporation</td>\n",
       "      <td>2022-09-26</td>\n",
       "      <td>options trading watchlist dy amzn scratch amd...</td>\n",
       "      <td>40</td>\n",
       "      <td>1.000000</td>\n",
       "      <td>{'neg': 0.106, 'neu': 0.795, 'pos': 0.098, 'co...</td>\n",
       "      <td>-0.0900</td>\n",
       "      <td>0.106</td>\n",
       "      <td>0.098</td>\n",
       "      <td>0.795</td>\n",
       "    </tr>\n",
       "    <tr>\n",
       "      <th>3</th>\n",
       "      <td>9/26/22 options trading watchlist ðÿ¤‘\\n\\n$amz...</td>\n",
       "      <td>MSFT</td>\n",
       "      <td>Microsoft Corporation</td>\n",
       "      <td>2022-09-26</td>\n",
       "      <td>options trading watchlist dy amzn c gt amd c ...</td>\n",
       "      <td>40</td>\n",
       "      <td>0.605000</td>\n",
       "      <td>{'neg': 0.175, 'neu': 0.674, 'pos': 0.151, 'co...</td>\n",
       "      <td>-0.0129</td>\n",
       "      <td>0.175</td>\n",
       "      <td>0.151</td>\n",
       "      <td>0.674</td>\n",
       "    </tr>\n",
       "    <tr>\n",
       "      <th>4</th>\n",
       "      <td>ðÿ³ news:\\n\\n- stablecoin legislation\\n- twit...</td>\n",
       "      <td>MSFT</td>\n",
       "      <td>Microsoft Corporation</td>\n",
       "      <td>2022-09-21</td>\n",
       "      <td>dy3 news stablecoin legislation twitch amzn ba...</td>\n",
       "      <td>35</td>\n",
       "      <td>0.166667</td>\n",
       "      <td>{'neg': 0.143, 'neu': 0.809, 'pos': 0.049, 'co...</td>\n",
       "      <td>-0.5423</td>\n",
       "      <td>0.143</td>\n",
       "      <td>0.049</td>\n",
       "      <td>0.809</td>\n",
       "    </tr>\n",
       "  </tbody>\n",
       "</table>\n",
       "</div>\n",
       "      <button class=\"colab-df-convert\" onclick=\"convertToInteractive('df-d5a6438f-a7b1-48b2-bfaa-faa51432d98c')\"\n",
       "              title=\"Convert this dataframe to an interactive table.\"\n",
       "              style=\"display:none;\">\n",
       "        \n",
       "  <svg xmlns=\"http://www.w3.org/2000/svg\" height=\"24px\"viewBox=\"0 0 24 24\"\n",
       "       width=\"24px\">\n",
       "    <path d=\"M0 0h24v24H0V0z\" fill=\"none\"/>\n",
       "    <path d=\"M18.56 5.44l.94 2.06.94-2.06 2.06-.94-2.06-.94-.94-2.06-.94 2.06-2.06.94zm-11 1L8.5 8.5l.94-2.06 2.06-.94-2.06-.94L8.5 2.5l-.94 2.06-2.06.94zm10 10l.94 2.06.94-2.06 2.06-.94-2.06-.94-.94-2.06-.94 2.06-2.06.94z\"/><path d=\"M17.41 7.96l-1.37-1.37c-.4-.4-.92-.59-1.43-.59-.52 0-1.04.2-1.43.59L10.3 9.45l-7.72 7.72c-.78.78-.78 2.05 0 2.83L4 21.41c.39.39.9.59 1.41.59.51 0 1.02-.2 1.41-.59l7.78-7.78 2.81-2.81c.8-.78.8-2.07 0-2.86zM5.41 20L4 18.59l7.72-7.72 1.47 1.35L5.41 20z\"/>\n",
       "  </svg>\n",
       "      </button>\n",
       "      \n",
       "  <style>\n",
       "    .colab-df-container {\n",
       "      display:flex;\n",
       "      flex-wrap:wrap;\n",
       "      gap: 12px;\n",
       "    }\n",
       "\n",
       "    .colab-df-convert {\n",
       "      background-color: #E8F0FE;\n",
       "      border: none;\n",
       "      border-radius: 50%;\n",
       "      cursor: pointer;\n",
       "      display: none;\n",
       "      fill: #1967D2;\n",
       "      height: 32px;\n",
       "      padding: 0 0 0 0;\n",
       "      width: 32px;\n",
       "    }\n",
       "\n",
       "    .colab-df-convert:hover {\n",
       "      background-color: #E2EBFA;\n",
       "      box-shadow: 0px 1px 2px rgba(60, 64, 67, 0.3), 0px 1px 3px 1px rgba(60, 64, 67, 0.15);\n",
       "      fill: #174EA6;\n",
       "    }\n",
       "\n",
       "    [theme=dark] .colab-df-convert {\n",
       "      background-color: #3B4455;\n",
       "      fill: #D2E3FC;\n",
       "    }\n",
       "\n",
       "    [theme=dark] .colab-df-convert:hover {\n",
       "      background-color: #434B5C;\n",
       "      box-shadow: 0px 1px 3px 1px rgba(0, 0, 0, 0.15);\n",
       "      filter: drop-shadow(0px 1px 2px rgba(0, 0, 0, 0.3));\n",
       "      fill: #FFFFFF;\n",
       "    }\n",
       "  </style>\n",
       "\n",
       "      <script>\n",
       "        const buttonEl =\n",
       "          document.querySelector('#df-d5a6438f-a7b1-48b2-bfaa-faa51432d98c button.colab-df-convert');\n",
       "        buttonEl.style.display =\n",
       "          google.colab.kernel.accessAllowed ? 'block' : 'none';\n",
       "\n",
       "        async function convertToInteractive(key) {\n",
       "          const element = document.querySelector('#df-d5a6438f-a7b1-48b2-bfaa-faa51432d98c');\n",
       "          const dataTable =\n",
       "            await google.colab.kernel.invokeFunction('convertToInteractive',\n",
       "                                                     [key], {});\n",
       "          if (!dataTable) return;\n",
       "\n",
       "          const docLinkHtml = 'Like what you see? Visit the ' +\n",
       "            '<a target=\"_blank\" href=https://colab.research.google.com/notebooks/data_table.ipynb>data table notebook</a>'\n",
       "            + ' to learn more about interactive tables.';\n",
       "          element.innerHTML = '';\n",
       "          dataTable['output_type'] = 'display_data';\n",
       "          await google.colab.output.renderOutput(dataTable, element);\n",
       "          const docLink = document.createElement('div');\n",
       "          docLink.innerHTML = docLinkHtml;\n",
       "          element.appendChild(docLink);\n",
       "        }\n",
       "      </script>\n",
       "    </div>\n",
       "  </div>\n",
       "  "
      ],
      "text/plain": [
       "                                               Tweet Stock Name  \\\n",
       "0  ðÿ³ news:\\n\\n- boe buys bonds, saves pensions...       MSFT   \n",
       "1  free #options ideas\\n\\nscale out when above 25...       MSFT   \n",
       "2  9/26/22 options trading watchlist ðÿ¤‘\\n\\n$amz...       MSFT   \n",
       "3  9/26/22 options trading watchlist ðÿ¤‘\\n\\n$amz...       MSFT   \n",
       "4  ðÿ³ news:\\n\\n- stablecoin legislation\\n- twit...       MSFT   \n",
       "\n",
       "            Company Name       Date  \\\n",
       "0  Microsoft Corporation 2022-09-29   \n",
       "1  Microsoft Corporation 2022-09-28   \n",
       "2  Microsoft Corporation 2022-09-26   \n",
       "3  Microsoft Corporation 2022-09-26   \n",
       "4  Microsoft Corporation 2022-09-21   \n",
       "\n",
       "                                         clean_tweet  description_lengths  \\\n",
       "0  dy3 news boe buys bonds saves pensions mortgag...                   40   \n",
       "1  free options ideas scale out when above profit...                   33   \n",
       "2   options trading watchlist dy amzn scratch amd...                   40   \n",
       "3   options trading watchlist dy amzn c gt amd c ...                   40   \n",
       "4  dy3 news stablecoin legislation twitch amzn ba...                   35   \n",
       "\n",
       "   Subjectivity                                             scores  Compound  \\\n",
       "0      0.454545  {'neg': 0.244, 'neu': 0.756, 'pos': 0.0, 'comp...   -0.8750   \n",
       "1      0.450000  {'neg': 0.0, 'neu': 0.749, 'pos': 0.251, 'comp...    0.8658   \n",
       "2      1.000000  {'neg': 0.106, 'neu': 0.795, 'pos': 0.098, 'co...   -0.0900   \n",
       "3      0.605000  {'neg': 0.175, 'neu': 0.674, 'pos': 0.151, 'co...   -0.0129   \n",
       "4      0.166667  {'neg': 0.143, 'neu': 0.809, 'pos': 0.049, 'co...   -0.5423   \n",
       "\n",
       "   Negative  Positive  Neutral  \n",
       "0     0.244     0.000    0.756  \n",
       "1     0.000     0.251    0.749  \n",
       "2     0.106     0.098    0.795  \n",
       "3     0.175     0.151    0.674  \n",
       "4     0.143     0.049    0.809  "
      ]
     },
     "execution_count": 70,
     "metadata": {},
     "output_type": "execute_result"
    }
   ],
   "source": [
    "df['Compound']  = df['scores'].apply(lambda score_dict: score_dict['compound'])\n",
    "df['Negative']  = df['scores'].apply(lambda score_dict: score_dict['neg'])\n",
    "df['Positive']  = df['scores'].apply(lambda score_dict: score_dict['pos'])\n",
    "df['Neutral']  = df['scores'].apply(lambda score_dict: score_dict['neu'])\n",
    "\n",
    "df.head()"
   ]
  },
  {
   "cell_type": "code",
   "execution_count": 71,
   "metadata": {
    "colab": {
     "base_uri": "https://localhost:8080/",
     "height": 808
    },
    "id": "P-fhtZ1Sonl_",
    "outputId": "290a5a1e-81f2-4a4e-971c-96263752863d"
   },
   "outputs": [
    {
     "data": {
      "text/html": [
       "\n",
       "  <div id=\"df-2a274ebe-d588-4467-92f9-3ce5169516d3\">\n",
       "    <div class=\"colab-df-container\">\n",
       "      <div>\n",
       "<style scoped>\n",
       "    .dataframe tbody tr th:only-of-type {\n",
       "        vertical-align: middle;\n",
       "    }\n",
       "\n",
       "    .dataframe tbody tr th {\n",
       "        vertical-align: top;\n",
       "    }\n",
       "\n",
       "    .dataframe thead th {\n",
       "        text-align: right;\n",
       "    }\n",
       "</style>\n",
       "<table border=\"1\" class=\"dataframe\">\n",
       "  <thead>\n",
       "    <tr style=\"text-align: right;\">\n",
       "      <th></th>\n",
       "      <th>Tweet</th>\n",
       "      <th>Stock Name</th>\n",
       "      <th>Company Name</th>\n",
       "      <th>Date</th>\n",
       "      <th>clean_tweet</th>\n",
       "      <th>description_lengths</th>\n",
       "      <th>Subjectivity</th>\n",
       "      <th>scores</th>\n",
       "      <th>Compound</th>\n",
       "      <th>Negative</th>\n",
       "      <th>Positive</th>\n",
       "      <th>Neutral</th>\n",
       "      <th>Sentiment</th>\n",
       "    </tr>\n",
       "  </thead>\n",
       "  <tbody>\n",
       "    <tr>\n",
       "      <th>0</th>\n",
       "      <td>ðÿ³ news:\\n\\n- boe buys bonds, saves pensions...</td>\n",
       "      <td>MSFT</td>\n",
       "      <td>Microsoft Corporation</td>\n",
       "      <td>2022-09-29</td>\n",
       "      <td>dy3 news boe buys bonds saves pensions mortgag...</td>\n",
       "      <td>40</td>\n",
       "      <td>0.454545</td>\n",
       "      <td>{'neg': 0.244, 'neu': 0.756, 'pos': 0.0, 'comp...</td>\n",
       "      <td>-0.8750</td>\n",
       "      <td>0.244</td>\n",
       "      <td>0.000</td>\n",
       "      <td>0.756</td>\n",
       "      <td>Negative</td>\n",
       "    </tr>\n",
       "    <tr>\n",
       "      <th>1</th>\n",
       "      <td>free #options ideas\\n\\nscale out when above 25...</td>\n",
       "      <td>MSFT</td>\n",
       "      <td>Microsoft Corporation</td>\n",
       "      <td>2022-09-28</td>\n",
       "      <td>free options ideas scale out when above profit...</td>\n",
       "      <td>33</td>\n",
       "      <td>0.450000</td>\n",
       "      <td>{'neg': 0.0, 'neu': 0.749, 'pos': 0.251, 'comp...</td>\n",
       "      <td>0.8658</td>\n",
       "      <td>0.000</td>\n",
       "      <td>0.251</td>\n",
       "      <td>0.749</td>\n",
       "      <td>Positive</td>\n",
       "    </tr>\n",
       "    <tr>\n",
       "      <th>2</th>\n",
       "      <td>9/26/22 options trading watchlist ðÿ¤‘\\n\\n$amz...</td>\n",
       "      <td>MSFT</td>\n",
       "      <td>Microsoft Corporation</td>\n",
       "      <td>2022-09-26</td>\n",
       "      <td>options trading watchlist dy amzn scratch amd...</td>\n",
       "      <td>40</td>\n",
       "      <td>1.000000</td>\n",
       "      <td>{'neg': 0.106, 'neu': 0.795, 'pos': 0.098, 'co...</td>\n",
       "      <td>-0.0900</td>\n",
       "      <td>0.106</td>\n",
       "      <td>0.098</td>\n",
       "      <td>0.795</td>\n",
       "      <td>Negative</td>\n",
       "    </tr>\n",
       "    <tr>\n",
       "      <th>3</th>\n",
       "      <td>9/26/22 options trading watchlist ðÿ¤‘\\n\\n$amz...</td>\n",
       "      <td>MSFT</td>\n",
       "      <td>Microsoft Corporation</td>\n",
       "      <td>2022-09-26</td>\n",
       "      <td>options trading watchlist dy amzn c gt amd c ...</td>\n",
       "      <td>40</td>\n",
       "      <td>0.605000</td>\n",
       "      <td>{'neg': 0.175, 'neu': 0.674, 'pos': 0.151, 'co...</td>\n",
       "      <td>-0.0129</td>\n",
       "      <td>0.175</td>\n",
       "      <td>0.151</td>\n",
       "      <td>0.674</td>\n",
       "      <td>Negative</td>\n",
       "    </tr>\n",
       "    <tr>\n",
       "      <th>4</th>\n",
       "      <td>ðÿ³ news:\\n\\n- stablecoin legislation\\n- twit...</td>\n",
       "      <td>MSFT</td>\n",
       "      <td>Microsoft Corporation</td>\n",
       "      <td>2022-09-21</td>\n",
       "      <td>dy3 news stablecoin legislation twitch amzn ba...</td>\n",
       "      <td>35</td>\n",
       "      <td>0.166667</td>\n",
       "      <td>{'neg': 0.143, 'neu': 0.809, 'pos': 0.049, 'co...</td>\n",
       "      <td>-0.5423</td>\n",
       "      <td>0.143</td>\n",
       "      <td>0.049</td>\n",
       "      <td>0.809</td>\n",
       "      <td>Negative</td>\n",
       "    </tr>\n",
       "  </tbody>\n",
       "</table>\n",
       "</div>\n",
       "      <button class=\"colab-df-convert\" onclick=\"convertToInteractive('df-2a274ebe-d588-4467-92f9-3ce5169516d3')\"\n",
       "              title=\"Convert this dataframe to an interactive table.\"\n",
       "              style=\"display:none;\">\n",
       "        \n",
       "  <svg xmlns=\"http://www.w3.org/2000/svg\" height=\"24px\"viewBox=\"0 0 24 24\"\n",
       "       width=\"24px\">\n",
       "    <path d=\"M0 0h24v24H0V0z\" fill=\"none\"/>\n",
       "    <path d=\"M18.56 5.44l.94 2.06.94-2.06 2.06-.94-2.06-.94-.94-2.06-.94 2.06-2.06.94zm-11 1L8.5 8.5l.94-2.06 2.06-.94-2.06-.94L8.5 2.5l-.94 2.06-2.06.94zm10 10l.94 2.06.94-2.06 2.06-.94-2.06-.94-.94-2.06-.94 2.06-2.06.94z\"/><path d=\"M17.41 7.96l-1.37-1.37c-.4-.4-.92-.59-1.43-.59-.52 0-1.04.2-1.43.59L10.3 9.45l-7.72 7.72c-.78.78-.78 2.05 0 2.83L4 21.41c.39.39.9.59 1.41.59.51 0 1.02-.2 1.41-.59l7.78-7.78 2.81-2.81c.8-.78.8-2.07 0-2.86zM5.41 20L4 18.59l7.72-7.72 1.47 1.35L5.41 20z\"/>\n",
       "  </svg>\n",
       "      </button>\n",
       "      \n",
       "  <style>\n",
       "    .colab-df-container {\n",
       "      display:flex;\n",
       "      flex-wrap:wrap;\n",
       "      gap: 12px;\n",
       "    }\n",
       "\n",
       "    .colab-df-convert {\n",
       "      background-color: #E8F0FE;\n",
       "      border: none;\n",
       "      border-radius: 50%;\n",
       "      cursor: pointer;\n",
       "      display: none;\n",
       "      fill: #1967D2;\n",
       "      height: 32px;\n",
       "      padding: 0 0 0 0;\n",
       "      width: 32px;\n",
       "    }\n",
       "\n",
       "    .colab-df-convert:hover {\n",
       "      background-color: #E2EBFA;\n",
       "      box-shadow: 0px 1px 2px rgba(60, 64, 67, 0.3), 0px 1px 3px 1px rgba(60, 64, 67, 0.15);\n",
       "      fill: #174EA6;\n",
       "    }\n",
       "\n",
       "    [theme=dark] .colab-df-convert {\n",
       "      background-color: #3B4455;\n",
       "      fill: #D2E3FC;\n",
       "    }\n",
       "\n",
       "    [theme=dark] .colab-df-convert:hover {\n",
       "      background-color: #434B5C;\n",
       "      box-shadow: 0px 1px 3px 1px rgba(0, 0, 0, 0.15);\n",
       "      filter: drop-shadow(0px 1px 2px rgba(0, 0, 0, 0.3));\n",
       "      fill: #FFFFFF;\n",
       "    }\n",
       "  </style>\n",
       "\n",
       "      <script>\n",
       "        const buttonEl =\n",
       "          document.querySelector('#df-2a274ebe-d588-4467-92f9-3ce5169516d3 button.colab-df-convert');\n",
       "        buttonEl.style.display =\n",
       "          google.colab.kernel.accessAllowed ? 'block' : 'none';\n",
       "\n",
       "        async function convertToInteractive(key) {\n",
       "          const element = document.querySelector('#df-2a274ebe-d588-4467-92f9-3ce5169516d3');\n",
       "          const dataTable =\n",
       "            await google.colab.kernel.invokeFunction('convertToInteractive',\n",
       "                                                     [key], {});\n",
       "          if (!dataTable) return;\n",
       "\n",
       "          const docLinkHtml = 'Like what you see? Visit the ' +\n",
       "            '<a target=\"_blank\" href=https://colab.research.google.com/notebooks/data_table.ipynb>data table notebook</a>'\n",
       "            + ' to learn more about interactive tables.';\n",
       "          element.innerHTML = '';\n",
       "          dataTable['output_type'] = 'display_data';\n",
       "          await google.colab.output.renderOutput(dataTable, element);\n",
       "          const docLink = document.createElement('div');\n",
       "          docLink.innerHTML = docLinkHtml;\n",
       "          element.appendChild(docLink);\n",
       "        }\n",
       "      </script>\n",
       "    </div>\n",
       "  </div>\n",
       "  "
      ],
      "text/plain": [
       "                                               Tweet Stock Name  \\\n",
       "0  ðÿ³ news:\\n\\n- boe buys bonds, saves pensions...       MSFT   \n",
       "1  free #options ideas\\n\\nscale out when above 25...       MSFT   \n",
       "2  9/26/22 options trading watchlist ðÿ¤‘\\n\\n$amz...       MSFT   \n",
       "3  9/26/22 options trading watchlist ðÿ¤‘\\n\\n$amz...       MSFT   \n",
       "4  ðÿ³ news:\\n\\n- stablecoin legislation\\n- twit...       MSFT   \n",
       "\n",
       "            Company Name       Date  \\\n",
       "0  Microsoft Corporation 2022-09-29   \n",
       "1  Microsoft Corporation 2022-09-28   \n",
       "2  Microsoft Corporation 2022-09-26   \n",
       "3  Microsoft Corporation 2022-09-26   \n",
       "4  Microsoft Corporation 2022-09-21   \n",
       "\n",
       "                                         clean_tweet  description_lengths  \\\n",
       "0  dy3 news boe buys bonds saves pensions mortgag...                   40   \n",
       "1  free options ideas scale out when above profit...                   33   \n",
       "2   options trading watchlist dy amzn scratch amd...                   40   \n",
       "3   options trading watchlist dy amzn c gt amd c ...                   40   \n",
       "4  dy3 news stablecoin legislation twitch amzn ba...                   35   \n",
       "\n",
       "   Subjectivity                                             scores  Compound  \\\n",
       "0      0.454545  {'neg': 0.244, 'neu': 0.756, 'pos': 0.0, 'comp...   -0.8750   \n",
       "1      0.450000  {'neg': 0.0, 'neu': 0.749, 'pos': 0.251, 'comp...    0.8658   \n",
       "2      1.000000  {'neg': 0.106, 'neu': 0.795, 'pos': 0.098, 'co...   -0.0900   \n",
       "3      0.605000  {'neg': 0.175, 'neu': 0.674, 'pos': 0.151, 'co...   -0.0129   \n",
       "4      0.166667  {'neg': 0.143, 'neu': 0.809, 'pos': 0.049, 'co...   -0.5423   \n",
       "\n",
       "   Negative  Positive  Neutral Sentiment  \n",
       "0     0.244     0.000    0.756  Negative  \n",
       "1     0.000     0.251    0.749  Positive  \n",
       "2     0.106     0.098    0.795  Negative  \n",
       "3     0.175     0.151    0.674  Negative  \n",
       "4     0.143     0.049    0.809  Negative  "
      ]
     },
     "execution_count": 71,
     "metadata": {},
     "output_type": "execute_result"
    }
   ],
   "source": [
    "def Sentimnt(x):\n",
    "    if x> 0:\n",
    "        return \"Positive\"\n",
    "    elif x< 0:\n",
    "        return \"Negative\"\n",
    "    else:\n",
    "        return \"Neutral\"\n",
    "\n",
    "df['Sentiment'] = df['Compound'].apply(Sentimnt)\n",
    "\n",
    "\n",
    "df.head()"
   ]
  },
  {
   "cell_type": "code",
   "execution_count": 72,
   "metadata": {
    "colab": {
     "base_uri": "https://localhost:8080/",
     "height": 563
    },
    "id": "eCRxKeaIotR6",
    "outputId": "8d76513b-1753-4af0-dfdd-baa11cbbc28f"
   },
   "outputs": [
    {
     "data": {
      "text/plain": [
       "<Axes: xlabel='Sentiment', ylabel='count'>"
      ]
     },
     "execution_count": 72,
     "metadata": {},
     "output_type": "execute_result"
    },
    {
     "data": {
      "image/png": "[encoded data removed]",
      "text/plain": [
       "<Figure size 1200x600 with 1 Axes>"
      ]
     },
     "metadata": {},
     "output_type": "display_data"
    }
   ],
   "source": [
    "import seaborn as sns\n",
    "import matplotlib.pyplot as plt\n",
    "\n",
    "# Set the font size of the x-axis labels to 16\n",
    "plt.figure(figsize=(12,6))\n",
    "sns.countplot(x='Sentiment',data=df)\n",
    "\n"
   ]
  },
  {
   "cell_type": "code",
   "execution_count": 73,
   "metadata": {
    "id": "Kl-nF2T1i6LI"
   },
   "outputs": [],
   "source": [
    "data_tweets_withoutpreprocess = df"
   ]
  },
  {
   "cell_type": "code",
   "execution_count": 74,
   "metadata": {
    "colab": {
     "base_uri": "https://localhost:8080/"
    },
    "id": "XtZvzbgQr5-s",
    "outputId": "64edfccd-6559-435d-eb07-b7130d60f317"
   },
   "outputs": [
    {
     "data": {
      "text/plain": [
       "Positive    49.203942\n",
       "Neutral     29.819714\n",
       "Negative    20.976343\n",
       "Name: Sentiment, dtype: float64"
      ]
     },
     "execution_count": 74,
     "metadata": {},
     "output_type": "execute_result"
    }
   ],
   "source": [
    "df.Sentiment.value_counts() / len(df)*100"
   ]
  }
 ],
 "metadata": {
  "colab": {
   "provenance": []
  },
  "gpuClass": "standard",
  "kernelspec": {
   "display_name": "Python 3",
   "language": "python",
   "name": "python3"
  },
  "language_info": {
   "codemirror_mode": {
    "name": "ipython",
    "version": 3
   },
   "file_extension": ".py",
   "mimetype": "text/x-python",
   "name": "python",
   "nbconvert_exporter": "python",
   "pygments_lexer": "ipython3",
   "version": "3.8.5"
  }
 },
 "nbformat": 4,
 "nbformat_minor": 1
}
